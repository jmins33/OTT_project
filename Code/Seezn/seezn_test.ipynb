{
  "nbformat": 4,
  "nbformat_minor": 0,
  "metadata": {
    "kernelspec": {
      "display_name": "Python 3",
      "language": "python",
      "name": "python3"
    },
    "language_info": {
      "codemirror_mode": {
        "name": "ipython",
        "version": 3
      },
      "file_extension": ".py",
      "mimetype": "text/x-python",
      "name": "python",
      "nbconvert_exporter": "python",
      "pygments_lexer": "ipython3",
      "version": "3.6.12"
    },
    "colab": {
      "name": "seezn_test.ipynb",
      "provenance": [],
      "include_colab_link": true
    }
  },
  "cells": [
    {
      "cell_type": "markdown",
      "metadata": {
        "id": "view-in-github",
        "colab_type": "text"
      },
      "source": [
        "<a href=\"https://colab.research.google.com/github/jmins33/OTT_project/blob/master/Code/Seezn/seezn_test.ipynb\" target=\"_parent\"><img src=\"https://colab.research.google.com/assets/colab-badge.svg\" alt=\"Open In Colab\"/></a>"
      ]
    },
    {
      "cell_type": "code",
      "metadata": {
        "id": "SMgIgh0c3gYj"
      },
      "source": [
        "import pandas as pd\n",
        "from pandas import DataFrame, Series\n",
        "import numpy as np\n",
        "import matplotlib.pyplot as plt\n",
        "import seaborn as sns\n",
        "\n",
        "import sys\n",
        "import os\n",
        "import pandas as pd\n",
        "import numpy as np\n",
        "\n",
        "from bs4 import BeautifulSoup\n",
        "from selenium import webdriver\n",
        "import time\n",
        "import tqdm\n",
        "from tqdm.notebook import tqdm"
      ],
      "execution_count": null,
      "outputs": []
    },
    {
      "cell_type": "code",
      "metadata": {
        "id": "_GDzY7rA3gYr"
      },
      "source": [
        "# 합치기 전 파일 불러오기(seezn)\n",
        "\n",
        "# seezn1=pd.read_excel('C:/Users/user/new/Seezn(완료)/seezn_20191128_20191231.xlsx')\n",
        "# seezn2=pd.read_excel('C:/Users/user/new/Seezn(완료)/seezn_20200101_20200229.xlsx')\n",
        "# seezn3=pd.read_excel('C:/Users/user/new/Seezn(완료)/seezn_20200301_20200430.xlsx')\n",
        "# seezn4=pd.read_excel('C:/Users/user/new/Seezn(완료)/seezn_20200501_20200631.xlsx')\n",
        "# seezn5=pd.read_excel('C:/Users/user/new/Seezn(완료)/seezn_20200701_20200831.xlsx')\n",
        "# seezn6=pd.read_excel('C:/Users/user/new/Seezn(완료)/seezn_20200901_20200924.xlsx')\n",
        "\n",
        "# seezn1.head(3) # 확인"
      ],
      "execution_count": null,
      "outputs": []
    },
    {
      "cell_type": "code",
      "metadata": {
        "id": "rjGBpRYT3gYy"
      },
      "source": [
        "# 파일 합치기 pd.concat\n",
        "# seezn_all=pd.concat([seezn1, seezn2,seezn3,seezn4,seezn5,seezn6])"
      ],
      "execution_count": null,
      "outputs": []
    },
    {
      "cell_type": "code",
      "metadata": {
        "id": "A12_CC3a3gY4"
      },
      "source": [
        "# csv파일로 내보내기\n",
        "# seezn_all.to_csv('C:/Users/user/new/seezn_all.csv')"
      ],
      "execution_count": null,
      "outputs": []
    },
    {
      "cell_type": "code",
      "metadata": {
        "id": "sTdvV-GJ3gY9",
        "outputId": "9931e4f1-4ae4-4dba-ae61-0092f525df56"
      },
      "source": [
        "# 파일 읽어오기\n",
        "seezn_all=pd.read_csv('C:/Users/user/new/seezn_all.csv');seezn_all.head(3)"
      ],
      "execution_count": null,
      "outputs": [
        {
          "output_type": "execute_result",
          "data": {
            "text/html": [
              "<div>\n",
              "<style scoped>\n",
              "    .dataframe tbody tr th:only-of-type {\n",
              "        vertical-align: middle;\n",
              "    }\n",
              "\n",
              "    .dataframe tbody tr th {\n",
              "        vertical-align: top;\n",
              "    }\n",
              "\n",
              "    .dataframe thead th {\n",
              "        text-align: right;\n",
              "    }\n",
              "</style>\n",
              "<table border=\"1\" class=\"dataframe\">\n",
              "  <thead>\n",
              "    <tr style=\"text-align: right;\">\n",
              "      <th></th>\n",
              "      <th>Unnamed: 0</th>\n",
              "      <th>Unnamed: 0.1</th>\n",
              "      <th>title</th>\n",
              "      <th>nickname</th>\n",
              "      <th>datetime</th>\n",
              "      <th>content</th>\n",
              "    </tr>\n",
              "  </thead>\n",
              "  <tbody>\n",
              "    <tr>\n",
              "      <th>0</th>\n",
              "      <td>0</td>\n",
              "      <td>0</td>\n",
              "      <td>우선 런칭 기념으로 ' 시즌 플레인 ' 첫 달 무료 이벤트를 진행 중이다. 좋은지 ...</td>\n",
              "      <td>뉴턴의사과</td>\n",
              "      <td>2019. 12. 12. 12:15</td>\n",
              "      <td>Play Your Seezn!\\n#시즌 #뉴미디어 #시즌플레인\\n『 스마트폰으로 즐...</td>\n",
              "    </tr>\n",
              "    <tr>\n",
              "      <th>1</th>\n",
              "      <td>1</td>\n",
              "      <td>1</td>\n",
              "      <td>올레 tv 모바일이 새롭게 변한 시즌 (seezn) 런칭 이벤트!</td>\n",
              "      <td>비주\\n(heena_mom)</td>\n",
              "      <td>2019. 12. 17. 22:29</td>\n",
              "      <td>안녕하세요 비주입니다~^^\\nKT 고객이시라면 올레 tv 모바일을 잘 알고 계실 거...</td>\n",
              "    </tr>\n",
              "    <tr>\n",
              "      <th>2</th>\n",
              "      <td>2</td>\n",
              "      <td>2</td>\n",
              "      <td>새로운 모바일 미디어 시즌(Seezn) 런칭 소식</td>\n",
              "      <td>경아신랑</td>\n",
              "      <td>2019. 12. 12. 17:36</td>\n",
              "      <td>어느 날 제 아이폰에 있던 KT 올레 TV 모바일앱이 사라졌습니다. 제가 심심할 ...</td>\n",
              "    </tr>\n",
              "  </tbody>\n",
              "</table>\n",
              "</div>"
            ],
            "text/plain": [
              "   Unnamed: 0  Unnamed: 0.1  \\\n",
              "0           0             0   \n",
              "1           1             1   \n",
              "2           2             2   \n",
              "\n",
              "                                               title         nickname  \\\n",
              "0  우선 런칭 기념으로 ' 시즌 플레인 ' 첫 달 무료 이벤트를 진행 중이다. 좋은지 ...            뉴턴의사과   \n",
              "1               올레 tv 모바일이 새롭게 변한 시즌 (seezn) 런칭 이벤트!  비주\\n(heena_mom)   \n",
              "2                        새로운 모바일 미디어 시즌(Seezn) 런칭 소식             경아신랑   \n",
              "\n",
              "              datetime                                            content  \n",
              "0  2019. 12. 12. 12:15  Play Your Seezn!\\n#시즌 #뉴미디어 #시즌플레인\\n『 스마트폰으로 즐...  \n",
              "1  2019. 12. 17. 22:29  안녕하세요 비주입니다~^^\\nKT 고객이시라면 올레 tv 모바일을 잘 알고 계실 거...  \n",
              "2  2019. 12. 12. 17:36   어느 날 제 아이폰에 있던 KT 올레 TV 모바일앱이 사라졌습니다. 제가 심심할 ...  "
            ]
          },
          "metadata": {
            "tags": []
          },
          "execution_count": 5
        }
      ]
    },
    {
      "cell_type": "code",
      "metadata": {
        "id": "RWDPvqvc3gZD",
        "outputId": "9432526f-8a20-4aec-bd72-9d67a068e930"
      },
      "source": [
        "# 데이터 확인\n",
        "seezn_all.head(3)"
      ],
      "execution_count": null,
      "outputs": [
        {
          "output_type": "execute_result",
          "data": {
            "text/html": [
              "<div>\n",
              "<style scoped>\n",
              "    .dataframe tbody tr th:only-of-type {\n",
              "        vertical-align: middle;\n",
              "    }\n",
              "\n",
              "    .dataframe tbody tr th {\n",
              "        vertical-align: top;\n",
              "    }\n",
              "\n",
              "    .dataframe thead th {\n",
              "        text-align: right;\n",
              "    }\n",
              "</style>\n",
              "<table border=\"1\" class=\"dataframe\">\n",
              "  <thead>\n",
              "    <tr style=\"text-align: right;\">\n",
              "      <th></th>\n",
              "      <th>Unnamed: 0</th>\n",
              "      <th>Unnamed: 0.1</th>\n",
              "      <th>title</th>\n",
              "      <th>nickname</th>\n",
              "      <th>datetime</th>\n",
              "      <th>content</th>\n",
              "    </tr>\n",
              "  </thead>\n",
              "  <tbody>\n",
              "    <tr>\n",
              "      <th>0</th>\n",
              "      <td>0</td>\n",
              "      <td>0</td>\n",
              "      <td>우선 런칭 기념으로 ' 시즌 플레인 ' 첫 달 무료 이벤트를 진행 중이다. 좋은지 ...</td>\n",
              "      <td>뉴턴의사과</td>\n",
              "      <td>2019. 12. 12. 12:15</td>\n",
              "      <td>Play Your Seezn!\\n#시즌 #뉴미디어 #시즌플레인\\n『 스마트폰으로 즐...</td>\n",
              "    </tr>\n",
              "    <tr>\n",
              "      <th>1</th>\n",
              "      <td>1</td>\n",
              "      <td>1</td>\n",
              "      <td>올레 tv 모바일이 새롭게 변한 시즌 (seezn) 런칭 이벤트!</td>\n",
              "      <td>비주\\n(heena_mom)</td>\n",
              "      <td>2019. 12. 17. 22:29</td>\n",
              "      <td>안녕하세요 비주입니다~^^\\nKT 고객이시라면 올레 tv 모바일을 잘 알고 계실 거...</td>\n",
              "    </tr>\n",
              "    <tr>\n",
              "      <th>2</th>\n",
              "      <td>2</td>\n",
              "      <td>2</td>\n",
              "      <td>새로운 모바일 미디어 시즌(Seezn) 런칭 소식</td>\n",
              "      <td>경아신랑</td>\n",
              "      <td>2019. 12. 12. 17:36</td>\n",
              "      <td>어느 날 제 아이폰에 있던 KT 올레 TV 모바일앱이 사라졌습니다. 제가 심심할 ...</td>\n",
              "    </tr>\n",
              "  </tbody>\n",
              "</table>\n",
              "</div>"
            ],
            "text/plain": [
              "   Unnamed: 0  Unnamed: 0.1  \\\n",
              "0           0             0   \n",
              "1           1             1   \n",
              "2           2             2   \n",
              "\n",
              "                                               title         nickname  \\\n",
              "0  우선 런칭 기념으로 ' 시즌 플레인 ' 첫 달 무료 이벤트를 진행 중이다. 좋은지 ...            뉴턴의사과   \n",
              "1               올레 tv 모바일이 새롭게 변한 시즌 (seezn) 런칭 이벤트!  비주\\n(heena_mom)   \n",
              "2                        새로운 모바일 미디어 시즌(Seezn) 런칭 소식             경아신랑   \n",
              "\n",
              "              datetime                                            content  \n",
              "0  2019. 12. 12. 12:15  Play Your Seezn!\\n#시즌 #뉴미디어 #시즌플레인\\n『 스마트폰으로 즐...  \n",
              "1  2019. 12. 17. 22:29  안녕하세요 비주입니다~^^\\nKT 고객이시라면 올레 tv 모바일을 잘 알고 계실 거...  \n",
              "2  2019. 12. 12. 17:36   어느 날 제 아이폰에 있던 KT 올레 TV 모바일앱이 사라졌습니다. 제가 심심할 ...  "
            ]
          },
          "metadata": {
            "tags": []
          },
          "execution_count": 6
        }
      ]
    },
    {
      "cell_type": "code",
      "metadata": {
        "id": "B_Gf9bqM3gZH",
        "outputId": "06d85934-754e-40f8-cfc9-55c0ac895128"
      },
      "source": [
        "# 데이터 확인\n",
        "seezn_all.info()"
      ],
      "execution_count": null,
      "outputs": [
        {
          "output_type": "stream",
          "text": [
            "<class 'pandas.core.frame.DataFrame'>\n",
            "RangeIndex: 1782 entries, 0 to 1781\n",
            "Data columns (total 6 columns):\n",
            " #   Column        Non-Null Count  Dtype \n",
            "---  ------        --------------  ----- \n",
            " 0   Unnamed: 0    1782 non-null   int64 \n",
            " 1   Unnamed: 0.1  1782 non-null   int64 \n",
            " 2   title         1602 non-null   object\n",
            " 3   nickname      1782 non-null   object\n",
            " 4   datetime      1782 non-null   object\n",
            " 5   content       1767 non-null   object\n",
            "dtypes: int64(2), object(4)\n",
            "memory usage: 83.7+ KB\n"
          ],
          "name": "stdout"
        }
      ]
    },
    {
      "cell_type": "code",
      "metadata": {
        "id": "N6NGPINR3gZM"
      },
      "source": [
        "# 필요한 컬럼만 추출\n",
        "seezn_test=seezn_all[['title','datetime','content']]"
      ],
      "execution_count": null,
      "outputs": []
    },
    {
      "cell_type": "code",
      "metadata": {
        "scrolled": true,
        "id": "eu3JdyoD3gZR",
        "outputId": "d65cfdf9-5e18-4f2e-b719-149a17f0b47c"
      },
      "source": [
        "seezn_test.head(3)"
      ],
      "execution_count": null,
      "outputs": [
        {
          "output_type": "execute_result",
          "data": {
            "text/html": [
              "<div>\n",
              "<style scoped>\n",
              "    .dataframe tbody tr th:only-of-type {\n",
              "        vertical-align: middle;\n",
              "    }\n",
              "\n",
              "    .dataframe tbody tr th {\n",
              "        vertical-align: top;\n",
              "    }\n",
              "\n",
              "    .dataframe thead th {\n",
              "        text-align: right;\n",
              "    }\n",
              "</style>\n",
              "<table border=\"1\" class=\"dataframe\">\n",
              "  <thead>\n",
              "    <tr style=\"text-align: right;\">\n",
              "      <th></th>\n",
              "      <th>title</th>\n",
              "      <th>datetime</th>\n",
              "      <th>content</th>\n",
              "    </tr>\n",
              "  </thead>\n",
              "  <tbody>\n",
              "    <tr>\n",
              "      <th>0</th>\n",
              "      <td>우선 런칭 기념으로 ' 시즌 플레인 ' 첫 달 무료 이벤트를 진행 중이다. 좋은지 ...</td>\n",
              "      <td>2019. 12. 12. 12:15</td>\n",
              "      <td>Play Your Seezn!\\n#시즌 #뉴미디어 #시즌플레인\\n『 스마트폰으로 즐...</td>\n",
              "    </tr>\n",
              "    <tr>\n",
              "      <th>1</th>\n",
              "      <td>올레 tv 모바일이 새롭게 변한 시즌 (seezn) 런칭 이벤트!</td>\n",
              "      <td>2019. 12. 17. 22:29</td>\n",
              "      <td>안녕하세요 비주입니다~^^\\nKT 고객이시라면 올레 tv 모바일을 잘 알고 계실 거...</td>\n",
              "    </tr>\n",
              "    <tr>\n",
              "      <th>2</th>\n",
              "      <td>새로운 모바일 미디어 시즌(Seezn) 런칭 소식</td>\n",
              "      <td>2019. 12. 12. 17:36</td>\n",
              "      <td>어느 날 제 아이폰에 있던 KT 올레 TV 모바일앱이 사라졌습니다. 제가 심심할 ...</td>\n",
              "    </tr>\n",
              "  </tbody>\n",
              "</table>\n",
              "</div>"
            ],
            "text/plain": [
              "                                               title             datetime  \\\n",
              "0  우선 런칭 기념으로 ' 시즌 플레인 ' 첫 달 무료 이벤트를 진행 중이다. 좋은지 ...  2019. 12. 12. 12:15   \n",
              "1               올레 tv 모바일이 새롭게 변한 시즌 (seezn) 런칭 이벤트!  2019. 12. 17. 22:29   \n",
              "2                        새로운 모바일 미디어 시즌(Seezn) 런칭 소식  2019. 12. 12. 17:36   \n",
              "\n",
              "                                             content  \n",
              "0  Play Your Seezn!\\n#시즌 #뉴미디어 #시즌플레인\\n『 스마트폰으로 즐...  \n",
              "1  안녕하세요 비주입니다~^^\\nKT 고객이시라면 올레 tv 모바일을 잘 알고 계실 거...  \n",
              "2   어느 날 제 아이폰에 있던 KT 올레 TV 모바일앱이 사라졌습니다. 제가 심심할 ...  "
            ]
          },
          "metadata": {
            "tags": []
          },
          "execution_count": 9
        }
      ]
    },
    {
      "cell_type": "markdown",
      "metadata": {
        "id": "vGL0qVAU3gZW"
      },
      "source": [
        "# 꼬꼬마 작동 확인"
      ]
    },
    {
      "cell_type": "code",
      "metadata": {
        "id": "HMx2i57K3gZW",
        "outputId": "29f4ac76-fc28-47ed-d786-70372e6ab9f8"
      },
      "source": [
        "text='인생은 모두가 함께하는 여행이다. 매일매일 사는 동안 우리가 할 수 있는 건 최선을 다해 이 멋진 여행을 만끽하는 것이다.'\n",
        "print(text.split(' '))"
      ],
      "execution_count": null,
      "outputs": [
        {
          "output_type": "stream",
          "text": [
            "['인생은', '모두가', '함께하는', '여행이다.', '매일매일', '사는', '동안', '우리가', '할', '수', '있는', '건', '최선을', '다해', '이', '멋진', '여행을', '만끽하는', '것이다.']\n"
          ],
          "name": "stdout"
        }
      ]
    },
    {
      "cell_type": "code",
      "metadata": {
        "id": "ppJ68xjb3gZb",
        "outputId": "9eb3b95d-ad09-47e9-e712-036ec29210b8"
      },
      "source": [
        "from konlpy.tag import Kkma\n",
        "kkma=Kkma()\n",
        "kkma_tokens=kkma.morphs(text)\n",
        "print(kkma_tokens)"
      ],
      "execution_count": null,
      "outputs": [
        {
          "output_type": "stream",
          "text": [
            "['인생', '은', '모두', '가', '함께', '하', '는', '여행', '이', '다', '.', '매일', '매일', '살', '는', '동안', '우리', '가', '하', 'ㄹ', '수', '있', '는', '것', '은', '최선', '을', '다하', '어', '이', '멋지', 'ㄴ', '여행', '을', '만끽', '하', '는', '것', '이', '다', '.']\n"
          ],
          "name": "stdout"
        }
      ]
    },
    {
      "cell_type": "markdown",
      "metadata": {
        "id": "PCJuRknL3gZl"
      },
      "source": [
        "1. parsing 전에, 기호 제거\n",
        "2. 다시 df 안에 넣기"
      ]
    },
    {
      "cell_type": "code",
      "metadata": {
        "id": "uwZvbZxL3gZm"
      },
      "source": [
        "df=seezn_test"
      ],
      "execution_count": null,
      "outputs": []
    },
    {
      "cell_type": "code",
      "metadata": {
        "scrolled": true,
        "id": "0AQIfA7h3gZp",
        "outputId": "6b173c14-58fc-4f95-b23c-d89aaaa640d9"
      },
      "source": [
        "df.info()"
      ],
      "execution_count": null,
      "outputs": [
        {
          "output_type": "stream",
          "text": [
            "<class 'pandas.core.frame.DataFrame'>\n",
            "RangeIndex: 1782 entries, 0 to 1781\n",
            "Data columns (total 3 columns):\n",
            " #   Column    Non-Null Count  Dtype \n",
            "---  ------    --------------  ----- \n",
            " 0   title     1602 non-null   object\n",
            " 1   datetime  1782 non-null   object\n",
            " 2   content   1767 non-null   object\n",
            "dtypes: object(3)\n",
            "memory usage: 41.9+ KB\n"
          ],
          "name": "stdout"
        }
      ]
    },
    {
      "cell_type": "code",
      "metadata": {
        "collapsed": true,
        "id": "fxRSvvE53gZu",
        "outputId": "8e84a317-6ffa-4b26-c833-511c9fe45c72"
      },
      "source": [
        "str_content=[]\n",
        "for i in range(len(df['content'])):\n",
        "    str_content.append(str(df['content'][i]))\n",
        "print(str_content[:2])"
      ],
      "execution_count": null,
      "outputs": [
        {
          "output_type": "stream",
          "text": [
            "[\"Play Your Seezn!\\n#시즌 #뉴미디어 #시즌플레인\\n『 스마트폰으로 즐기는 미디어 세상 '시즌' 』\\n글 그림 | 뉴턴의사과 스마트폰으로 많은 걸 할 수 있다. 그리고 앞으로 할 수 있는 것은 더 늘어갈 거라는 건 모두 알고 있다. 아날로그적이 것들이 사라지는 것은 아쉽지만 이제는 하루라도 스마트폰이 없이 생활하려면 정말 불편하지 않을까 생각해본다. 생활을 편리하게 해주는 다양한 앱과 성능은 PC나 디지털카메라의 자리까지 위협하고 있다. 이번에 둘러볼 앱인 Seezn 시즌은 모바일 미디어 앱으로 다양한 영상에서부터 음악 등 스마트폰으로 보고 듣고 즐길 수 있도록 해준다. 최근에 더욱더 많이 생기고 있는 OTT 서비스 중에 최근 런칭한 'Seezn' 만의 특징은 뭐가 있는지 둘러보자. 우선 런칭 기념으로 ' 시즌 플레인 ' 첫 달 무료 이벤트를 진행 중이다. 좋은지 나쁜지는 좀 써봐야 아는데 한 달 무료 이벤트가 진행 중이니 한번 사용해 보는 것도 좋다. 나에게 맞는 콘텐츠를 알아서 추천해 주는 것은 정말 편한 일이다. 요즘처럼 콘텐츠의 홍수 속에서 살고 있다면 더욱 그러하다. 내가 평소에 사용한 이력은 물론이고 요일이나 시간대, 날씨 등 20여 개의 디테일한 조건에 따라서 나에게 맞는 컨텐츠들을 제공해 준다. 거기에 국내 최초로 내 얼굴 표정을 인식해서 내 기분에 맞는 최적의 콘텐츠를 제공해 준다. 음... 지금 나의 상태는 절제(?)와 슬픔이 함께 하고 있는데 과연 어떤 영상으로 나의 절제된 상태를 업 시켜 줄지 기대가 된다. ㅋ 추워진 날씨와 요즘 오기 시작한 반갑지 않은 손님인 미세먼지 상황에 따라서도 추천한다. 위 화면을 보면 초미세먼지가 나쁨인 날에는 ' 밖은 위험해요! 정주행 day '해서 정주행 하기 좋은 영상들을 추천해 준다. 마블 런어웨이즈 시즌 1은 끌리는군! 뭔가 기억이 날것 같으면서도 정확하지 않는 제목이나 OST, 음원 등은 새로운 스토리텔링 검색 기술로 사용자가 찾을 수 있도록 도와준다. 지상파 3사와 다양한 종편, 영화, 드라마, 예능 등 20만 편 이상의 VOD를 보유하고 있다. 다른 OTT 앱과는 차별화를 둔 총 17만 곡의 OST와 TV 속 음악을 만날 수 있다. 영상을 보는 것뿐만 아니라 듣는 것까지 만족시켜 준다. 보통 OTT 앱을 선택할 때 내가 원하는 컨텐츠의 양이 중요한 요소가 된다. 특히 음질 부분에서는 국내 최초로 VSS 슈퍼 사운드를 제공한다. 다른 OTT 앱에서는 볼 수 없는 귀를 즐겁게 해주는 < Virtual Surround Sound >기술이다. 한마디로 이야기하면 장르별로 최적화된 고품질을 사운드를 들려준다. 영상 시청 시 설정할 수 있으며 Music, Drama, Sport 등 원하는 장르에 맞게 선택만 해주면 된다. 요즘에는 TV보다도 장소에 구애받지 않고 스마트폰으로 시청하는 경우가 많기 때문에 다양한 장르에 맞는 음질은 사용하는 유저의 입장에서는 매력적이다. 결론적으로 이야기하면 4K UHD를 지원한다. 영화나 TV 프로, 해외 시리즈까지 좋은 화질의 영상을 볼 수 있다. 요즘처럼 스마트폰이 대화면을 선호하는 분위기에서 상당히 이점이다. 8Mbps 이상의 초고화질로 커진 스마트폰의 디스플레이와 잘 맞는다. 그리고 많은 분들이 5G 스마트폰과 요금제를 사용하고 있는데 5G 전용 서비스로 초고해상도의 뮤지션 라이브나 5G로 보는 프로야구 서비스를 지원한다. 그리고 영상에 대한 정보도 한눈에 볼 수 있어서 좋았다. 음악의 경우 아티스트 정보나 영화는 배우, 작가, 감독, 평까지 다양한 정보를 한 번에 볼 수 있다. 최근 OTT 서비스마다 독점작을 많이 어필하고 있는데 '시즌'에서는 매주 홍대 < 웨스트비릿지 kt 5G >에서 열리는 라이브 공연과 예능, 웹드라마 등 독점 오리지널 콘텐츠를 꾸준히 선보일 예정이다.\\n여기까지 런칭 소식과 함께 Seezn의 특징을 둘러보았다. 위에서 이야기한 시즌 플레인 가입 시 첫 달 무료 이벤트 이외에도 12월 18일까지 로그인하고 선물 받기, 시즌 믹스 플러스 가입하고 선물 받기 등 다양한 이벤트가 진행 중이니 둘러봐도 좋을 것 같다.\\n:: 홈페이지 바로가기 :: \", '안녕하세요 비주입니다~^^\\nKT 고객이시라면 올레 tv 모바일을 잘 알고 계실 거라 생각이 들어요~\\n이 올레 tv 모바일이 5G와 AI를 바탕으로 모바일에서 보다 더 실감 나는 영상 콘텐츠들을 제공하는 시즌 (seezn)을 공식적으로 서비스를 시작하였는데요. 무엇보다 음악 전문 그룹사인 지니 뮤직과도 합쳐져서 기본 보는 채널에서 이제는 보고 듣는 채널로 한 단계 업그레이드가 되었다고 보시면 되는데요~ 그러니까 영상과 음악을 한곳에서 모두 즐길 수 있다고 생각하시면 됩니다 ^^ 130여 개의 실시간 채널과 20만 편 이상의 VOD 그리고 17만 곡 OST와 TV 속 음악까지 이제는 시즌 어플을 통해서 보고 들을 수 있습니다. 무엇보다 감정까지 읽어주는 어플로서 지금처럼 흐린 날엔 뭘 봐야 하는지 콘텐츠들을 알아서 제공을 해주고요~\\n검색도 좀 남달라요! 키워드를 통해서 찾아주는 경우도 있지만 도저히 키워드는 생각나지 않고 어떤 장면을 통해서 찾고자 할 때나 스토리텔링을 가지고 찾으려고 할 때 검색할 수 있는 내 마음을 뺏는 Scena 검색도 있답니다 ^^ 요즘 못 본 드라마들이 많은데 TV 다시 보기로 볼 수 있고요~ 물론 유료로 볼 수 있는 콘텐츠들도 있습니다.\\n그리고 지난 드라마들도 그달 그달 무료로 즐길 수 있는 것들도 많더라고요~  그리고 영화를 검색을 하니 바로 출연진은 물론이고 감독정보까지 한눈에 볼 수 있도록 되어 있어요~ 그리고 줄거니 및 평점까지도 다 볼 수 있어서 찾지 않아도 한눈에 스캔을 할 수 있어 좋더라고요 ^^ 카테고리에서도 보면 정말 다양한 걸 볼 수 있어요~ 2019연말 결산도 새롭고요~ 올 한 해 핫했던 영화 드라마 화재의 인물까지도 만나볼 수 있어요!\\n그리고 5G 프리미엄에서는 리얼 4K UHD도 누릴 수 있으며 키즈에 애니메이션까지 정말 없는 게 없죠!! 이렇게 보고 싶은 다양한 콘텐츠들을 볼 수 있는 KT 시즌의 요금제도 궁금하실 텐데요~\\n시즌 믹스로 월 9,900원이면 콘텐츠팩과 프리미엄 VOD를 내 맘대로 골라서 볼 수가 있어요~  요즘제를 좀 더 자세히 보면 시즌믹스 플러스가 있고요~ 시즌믹스 그리고 시즌플레인 플러스, 시즌 플레인 이렇게 나눠져 있습니다.\\n보시면 코코라는게 있죠? 코코란 시즌 앱 내에서 콘텐츠 결제 시 사용할 수 있는 결제 수단을 말하는 겁니다.\\n콘텐트팩 코코는 11,000원 상당의 16종의 다양한 콘텐츠팩을 매월 자유롭게 골라 볼 수 있어요~ (프라임무비팩, 지상파 무제한 즐기기, 종편 무제한 즐기기, 키즈/교육 등등)\\n그리고 VOD용 코코는 원하는 최신영화, 해외 시리즈, 드라마다시보기, 소장용 콘텐츠까지 자유롭게 골라 볼 수 있어요~ 시즌(seezn)을 시작하면서 런칭 이벤트도 준비가 되어 있는데요~ 로그인만 해도 푸짐한 선물을 드리고 있어요!\\n참 로그인은 기존에 올레 통합 ID가 있으면 그냥 로그인해서 들어갈 수 있어요.  이벤트 기간은 얼마 남지 않았는데요 12월 18일까지입니다.  경품으로는 도미노 슈퍼슈프림피자L + 콜라 1.25L(200명), 배스킨라빈스 파인트(500명), 스타벅스 카페 아메리카노(1,000명), 비타500(10,000명) 이렇게 진행이 되는데요 \\n매일매일 할 수 있는 거예요~ 오늘 해봤는데 저는 꽝이 나왔네요 마지막 그날까지 해보려고요 ㅎㅎㅎ 그리고 위에서 말한 시즌 요금제 시즌 믹스 플러스에 가입을 하신다면 평생 할인 혜택이 준비가 되어 있어요~\\n바로 월 12,000원이었던 요금제를 평생 월 10,000원으로 이용하실 수 있다는 점입니다.\\n그리고 시즌 믹스 플러스 가입자를 위한 또 하나의 파워 혜택은 이벤트 기간 내 신규 가입자 대상으로 삼성노트북(1명), 애플 에어팟 프로(10명), 갤럭시핏(30명)이 준비되어 있다고 하니 참고하세요~^^\\n이거 역시 이벤트 기간은 12월 18일 수요일까지입니다~\\n+ 런칭기념 이벤트 바로가기  ']\n"
          ],
          "name": "stdout"
        }
      ]
    },
    {
      "cell_type": "code",
      "metadata": {
        "collapsed": true,
        "id": "5LJO3TgZ3gZy",
        "outputId": "47bfebca-8490-41a0-d97c-76680e2af791"
      },
      "source": [
        "df['str_content']=str_content"
      ],
      "execution_count": null,
      "outputs": [
        {
          "output_type": "stream",
          "text": [
            "C:\\Users\\user\\.conda\\envs\\Media\\lib\\site-packages\\ipykernel_launcher.py:1: SettingWithCopyWarning: \n",
            "A value is trying to be set on a copy of a slice from a DataFrame.\n",
            "Try using .loc[row_indexer,col_indexer] = value instead\n",
            "\n",
            "See the caveats in the documentation: https://pandas.pydata.org/pandas-docs/stable/user_guide/indexing.html#returning-a-view-versus-a-copy\n",
            "  \"\"\"Entry point for launching an IPython kernel.\n"
          ],
          "name": "stderr"
        }
      ]
    },
    {
      "cell_type": "code",
      "metadata": {
        "collapsed": true,
        "id": "geHXVyKu3gZ4",
        "outputId": "91a76b2b-05f3-4bac-f60d-a350ae44a4b8"
      },
      "source": [
        "df"
      ],
      "execution_count": null,
      "outputs": [
        {
          "output_type": "execute_result",
          "data": {
            "text/html": [
              "<div>\n",
              "<style scoped>\n",
              "    .dataframe tbody tr th:only-of-type {\n",
              "        vertical-align: middle;\n",
              "    }\n",
              "\n",
              "    .dataframe tbody tr th {\n",
              "        vertical-align: top;\n",
              "    }\n",
              "\n",
              "    .dataframe thead th {\n",
              "        text-align: right;\n",
              "    }\n",
              "</style>\n",
              "<table border=\"1\" class=\"dataframe\">\n",
              "  <thead>\n",
              "    <tr style=\"text-align: right;\">\n",
              "      <th></th>\n",
              "      <th>title</th>\n",
              "      <th>datetime</th>\n",
              "      <th>content</th>\n",
              "      <th>str_content</th>\n",
              "    </tr>\n",
              "  </thead>\n",
              "  <tbody>\n",
              "    <tr>\n",
              "      <th>0</th>\n",
              "      <td>우선 런칭 기념으로 ' 시즌 플레인 ' 첫 달 무료 이벤트를 진행 중이다. 좋은지 ...</td>\n",
              "      <td>2019. 12. 12. 12:15</td>\n",
              "      <td>Play Your Seezn!\\n#시즌 #뉴미디어 #시즌플레인\\n『 스마트폰으로 즐...</td>\n",
              "      <td>Play Your Seezn!\\n#시즌 #뉴미디어 #시즌플레인\\n『 스마트폰으로 즐...</td>\n",
              "    </tr>\n",
              "    <tr>\n",
              "      <th>1</th>\n",
              "      <td>올레 tv 모바일이 새롭게 변한 시즌 (seezn) 런칭 이벤트!</td>\n",
              "      <td>2019. 12. 17. 22:29</td>\n",
              "      <td>안녕하세요 비주입니다~^^\\nKT 고객이시라면 올레 tv 모바일을 잘 알고 계실 거...</td>\n",
              "      <td>안녕하세요 비주입니다~^^\\nKT 고객이시라면 올레 tv 모바일을 잘 알고 계실 거...</td>\n",
              "    </tr>\n",
              "    <tr>\n",
              "      <th>2</th>\n",
              "      <td>새로운 모바일 미디어 시즌(Seezn) 런칭 소식</td>\n",
              "      <td>2019. 12. 12. 17:36</td>\n",
              "      <td>어느 날 제 아이폰에 있던 KT 올레 TV 모바일앱이 사라졌습니다. 제가 심심할 ...</td>\n",
              "      <td>어느 날 제 아이폰에 있던 KT 올레 TV 모바일앱이 사라졌습니다. 제가 심심할 ...</td>\n",
              "    </tr>\n",
              "    <tr>\n",
              "      <th>3</th>\n",
              "      <td>올레 TV 모바일의 놀라운 변신</td>\n",
              "      <td>2019. 12. 31. 16:40</td>\n",
              "      <td>아직도 텔레비젼으로만 지상파와 케이블 방송을 시청하는 분들은 안 계시겠죠. 저처럼 ...</td>\n",
              "      <td>아직도 텔레비젼으로만 지상파와 케이블 방송을 시청하는 분들은 안 계시겠죠. 저처럼 ...</td>\n",
              "    </tr>\n",
              "    <tr>\n",
              "      <th>4</th>\n",
              "      <td>올레TV 모바일이 KT seezn 시즌으로! 다양한 콘텐츠 즐겨볼까</td>\n",
              "      <td>2019. 12. 18. 9:39</td>\n",
              "      <td>KT 요금제 가입 고객이라면 지금까지 쏠쏠하게 즐겼던 올레TV 모바일이 최근 see...</td>\n",
              "      <td>KT 요금제 가입 고객이라면 지금까지 쏠쏠하게 즐겼던 올레TV 모바일이 최근 see...</td>\n",
              "    </tr>\n",
              "    <tr>\n",
              "      <th>...</th>\n",
              "      <td>...</td>\n",
              "      <td>...</td>\n",
              "      <td>...</td>\n",
              "      <td>...</td>\n",
              "    </tr>\n",
              "    <tr>\n",
              "      <th>1777</th>\n",
              "      <td>청량한 로맨스 대만드라마 상견니 줄거리/ 명장면,명대사 / 상견니주접</td>\n",
              "      <td>2020. 9. 15. 19:16</td>\n",
              "      <td>요즘은 재미있는 드라마, 영화 찾아 보는게 소소한 나의 힐링이다. \\n그동안은 내 ...</td>\n",
              "      <td>요즘은 재미있는 드라마, 영화 찾아 보는게 소소한 나의 힐링이다. \\n그동안은 내 ...</td>\n",
              "    </tr>\n",
              "    <tr>\n",
              "      <th>1778</th>\n",
              "      <td>NaN</td>\n",
              "      <td>2020. 9. 4. 10:28</td>\n",
              "      <td>[데일리한국 장정우 기자] KT의 온라인동영상서비스(OTT) 시즌(Seezn)에서 ...</td>\n",
              "      <td>[데일리한국 장정우 기자] KT의 온라인동영상서비스(OTT) 시즌(Seezn)에서 ...</td>\n",
              "    </tr>\n",
              "    <tr>\n",
              "      <th>1779</th>\n",
              "      <td>NaN</td>\n",
              "      <td>2020. 9. 12. 18:17</td>\n",
              "      <td></td>\n",
              "      <td></td>\n",
              "    </tr>\n",
              "    <tr>\n",
              "      <th>1780</th>\n",
              "      <td>상견니(想見你) 리뷰 아닌 몇 가지 이야기들 - 6</td>\n",
              "      <td>2020. 9. 12. 14:46</td>\n",
              "      <td>작가 임흔혜 : 사실, 우리가 쓴 세 명의 청소년 주인공 캐릭터들은 특별한 것들이 ...</td>\n",
              "      <td>작가 임흔혜 : 사실, 우리가 쓴 세 명의 청소년 주인공 캐릭터들은 특별한 것들이 ...</td>\n",
              "    </tr>\n",
              "    <tr>\n",
              "      <th>1781</th>\n",
              "      <td>김재환 '태릉선수촌으로 안 뺏긴게 다행인 가수'😆</td>\n",
              "      <td>2020. 9. 8. 12:27</td>\n",
              "      <td>https://theqoo.net/square/1604831749 https://y...</td>\n",
              "      <td>https://theqoo.net/square/1604831749 https://y...</td>\n",
              "    </tr>\n",
              "  </tbody>\n",
              "</table>\n",
              "<p>1782 rows × 4 columns</p>\n",
              "</div>"
            ],
            "text/plain": [
              "                                                  title             datetime  \\\n",
              "0     우선 런칭 기념으로 ' 시즌 플레인 ' 첫 달 무료 이벤트를 진행 중이다. 좋은지 ...  2019. 12. 12. 12:15   \n",
              "1                  올레 tv 모바일이 새롭게 변한 시즌 (seezn) 런칭 이벤트!  2019. 12. 17. 22:29   \n",
              "2                           새로운 모바일 미디어 시즌(Seezn) 런칭 소식  2019. 12. 12. 17:36   \n",
              "3                                    올레 TV 모바일의 놀라운 변신   2019. 12. 31. 16:40   \n",
              "4                 올레TV 모바일이 KT seezn 시즌으로! 다양한 콘텐츠 즐겨볼까   2019. 12. 18. 9:39   \n",
              "...                                                 ...                  ...   \n",
              "1777             청량한 로맨스 대만드라마 상견니 줄거리/ 명장면,명대사 / 상견니주접   2020. 9. 15. 19:16   \n",
              "1778                                                NaN    2020. 9. 4. 10:28   \n",
              "1779                                                NaN   2020. 9. 12. 18:17   \n",
              "1780                       상견니(想見你) 리뷰 아닌 몇 가지 이야기들 - 6   2020. 9. 12. 14:46   \n",
              "1781                        김재환 '태릉선수촌으로 안 뺏긴게 다행인 가수'😆    2020. 9. 8. 12:27   \n",
              "\n",
              "                                                content  \\\n",
              "0     Play Your Seezn!\\n#시즌 #뉴미디어 #시즌플레인\\n『 스마트폰으로 즐...   \n",
              "1     안녕하세요 비주입니다~^^\\nKT 고객이시라면 올레 tv 모바일을 잘 알고 계실 거...   \n",
              "2      어느 날 제 아이폰에 있던 KT 올레 TV 모바일앱이 사라졌습니다. 제가 심심할 ...   \n",
              "3     아직도 텔레비젼으로만 지상파와 케이블 방송을 시청하는 분들은 안 계시겠죠. 저처럼 ...   \n",
              "4     KT 요금제 가입 고객이라면 지금까지 쏠쏠하게 즐겼던 올레TV 모바일이 최근 see...   \n",
              "...                                                 ...   \n",
              "1777  요즘은 재미있는 드라마, 영화 찾아 보는게 소소한 나의 힐링이다. \\n그동안은 내 ...   \n",
              "1778  [데일리한국 장정우 기자] KT의 온라인동영상서비스(OTT) 시즌(Seezn)에서 ...   \n",
              "1779                                                      \n",
              "1780  작가 임흔혜 : 사실, 우리가 쓴 세 명의 청소년 주인공 캐릭터들은 특별한 것들이 ...   \n",
              "1781  https://theqoo.net/square/1604831749 https://y...   \n",
              "\n",
              "                                            str_content  \n",
              "0     Play Your Seezn!\\n#시즌 #뉴미디어 #시즌플레인\\n『 스마트폰으로 즐...  \n",
              "1     안녕하세요 비주입니다~^^\\nKT 고객이시라면 올레 tv 모바일을 잘 알고 계실 거...  \n",
              "2      어느 날 제 아이폰에 있던 KT 올레 TV 모바일앱이 사라졌습니다. 제가 심심할 ...  \n",
              "3     아직도 텔레비젼으로만 지상파와 케이블 방송을 시청하는 분들은 안 계시겠죠. 저처럼 ...  \n",
              "4     KT 요금제 가입 고객이라면 지금까지 쏠쏠하게 즐겼던 올레TV 모바일이 최근 see...  \n",
              "...                                                 ...  \n",
              "1777  요즘은 재미있는 드라마, 영화 찾아 보는게 소소한 나의 힐링이다. \\n그동안은 내 ...  \n",
              "1778  [데일리한국 장정우 기자] KT의 온라인동영상서비스(OTT) 시즌(Seezn)에서 ...  \n",
              "1779                                                     \n",
              "1780  작가 임흔혜 : 사실, 우리가 쓴 세 명의 청소년 주인공 캐릭터들은 특별한 것들이 ...  \n",
              "1781  https://theqoo.net/square/1604831749 https://y...  \n",
              "\n",
              "[1782 rows x 4 columns]"
            ]
          },
          "metadata": {
            "tags": []
          },
          "execution_count": 30
        }
      ]
    },
    {
      "cell_type": "code",
      "metadata": {
        "id": "TJsGEbcC3gZ8",
        "outputId": "cb0c384c-9932-4105-f978-c0ed38cb7109"
      },
      "source": [
        "import re \n",
        "# '한글'을 제외한 다른 문자 모두 제거\n",
        "remove_except_ko = re.compile(r\"[^가-힣ㄱ-ㅎㅏ-ㅣ\\\\s|A-Za-z]\")\n",
        "def preprocess(text):\n",
        "    text = re.sub(remove_except_ko,' ',text).strip()\n",
        "    return text\n",
        "\n",
        "df['clean_doc'] = df['str_content'].map(lambda x : preprocess(x))\n",
        "df.head(5)"
      ],
      "execution_count": null,
      "outputs": [
        {
          "output_type": "stream",
          "text": [
            "C:\\Users\\user\\.conda\\envs\\Media\\lib\\site-packages\\ipykernel_launcher.py:8: SettingWithCopyWarning: \n",
            "A value is trying to be set on a copy of a slice from a DataFrame.\n",
            "Try using .loc[row_indexer,col_indexer] = value instead\n",
            "\n",
            "See the caveats in the documentation: https://pandas.pydata.org/pandas-docs/stable/user_guide/indexing.html#returning-a-view-versus-a-copy\n",
            "  \n"
          ],
          "name": "stderr"
        },
        {
          "output_type": "execute_result",
          "data": {
            "text/html": [
              "<div>\n",
              "<style scoped>\n",
              "    .dataframe tbody tr th:only-of-type {\n",
              "        vertical-align: middle;\n",
              "    }\n",
              "\n",
              "    .dataframe tbody tr th {\n",
              "        vertical-align: top;\n",
              "    }\n",
              "\n",
              "    .dataframe thead th {\n",
              "        text-align: right;\n",
              "    }\n",
              "</style>\n",
              "<table border=\"1\" class=\"dataframe\">\n",
              "  <thead>\n",
              "    <tr style=\"text-align: right;\">\n",
              "      <th></th>\n",
              "      <th>title</th>\n",
              "      <th>datetime</th>\n",
              "      <th>content</th>\n",
              "      <th>str_content</th>\n",
              "      <th>clean_doc</th>\n",
              "    </tr>\n",
              "  </thead>\n",
              "  <tbody>\n",
              "    <tr>\n",
              "      <th>0</th>\n",
              "      <td>우선 런칭 기념으로 ' 시즌 플레인 ' 첫 달 무료 이벤트를 진행 중이다. 좋은지 ...</td>\n",
              "      <td>2019. 12. 12. 12:15</td>\n",
              "      <td>Play Your Seezn!\\n#시즌 #뉴미디어 #시즌플레인\\n『 스마트폰으로 즐...</td>\n",
              "      <td>Play Your Seezn!\\n#시즌 #뉴미디어 #시즌플레인\\n『 스마트폰으로 즐...</td>\n",
              "      <td>Play Your Seezn   시즌  뉴미디어  시즌플레인   스마트폰으로 즐기는...</td>\n",
              "    </tr>\n",
              "    <tr>\n",
              "      <th>1</th>\n",
              "      <td>올레 tv 모바일이 새롭게 변한 시즌 (seezn) 런칭 이벤트!</td>\n",
              "      <td>2019. 12. 17. 22:29</td>\n",
              "      <td>안녕하세요 비주입니다~^^\\nKT 고객이시라면 올레 tv 모바일을 잘 알고 계실 거...</td>\n",
              "      <td>안녕하세요 비주입니다~^^\\nKT 고객이시라면 올레 tv 모바일을 잘 알고 계실 거...</td>\n",
              "      <td>안녕하세요 비주입니다    KT 고객이시라면 올레 tv 모바일을 잘 알고 계실 거라...</td>\n",
              "    </tr>\n",
              "    <tr>\n",
              "      <th>2</th>\n",
              "      <td>새로운 모바일 미디어 시즌(Seezn) 런칭 소식</td>\n",
              "      <td>2019. 12. 12. 17:36</td>\n",
              "      <td>어느 날 제 아이폰에 있던 KT 올레 TV 모바일앱이 사라졌습니다. 제가 심심할 ...</td>\n",
              "      <td>어느 날 제 아이폰에 있던 KT 올레 TV 모바일앱이 사라졌습니다. 제가 심심할 ...</td>\n",
              "      <td>어느 날 제 아이폰에 있던 KT 올레 TV 모바일앱이 사라졌습니다  제가 심심할 때...</td>\n",
              "    </tr>\n",
              "    <tr>\n",
              "      <th>3</th>\n",
              "      <td>올레 TV 모바일의 놀라운 변신</td>\n",
              "      <td>2019. 12. 31. 16:40</td>\n",
              "      <td>아직도 텔레비젼으로만 지상파와 케이블 방송을 시청하는 분들은 안 계시겠죠. 저처럼 ...</td>\n",
              "      <td>아직도 텔레비젼으로만 지상파와 케이블 방송을 시청하는 분들은 안 계시겠죠. 저처럼 ...</td>\n",
              "      <td>아직도 텔레비젼으로만 지상파와 케이블 방송을 시청하는 분들은 안 계시겠죠  저처럼 ...</td>\n",
              "    </tr>\n",
              "    <tr>\n",
              "      <th>4</th>\n",
              "      <td>올레TV 모바일이 KT seezn 시즌으로! 다양한 콘텐츠 즐겨볼까</td>\n",
              "      <td>2019. 12. 18. 9:39</td>\n",
              "      <td>KT 요금제 가입 고객이라면 지금까지 쏠쏠하게 즐겼던 올레TV 모바일이 최근 see...</td>\n",
              "      <td>KT 요금제 가입 고객이라면 지금까지 쏠쏠하게 즐겼던 올레TV 모바일이 최근 see...</td>\n",
              "      <td>KT 요금제 가입 고객이라면 지금까지 쏠쏠하게 즐겼던 올레TV 모바일이 최근 see...</td>\n",
              "    </tr>\n",
              "  </tbody>\n",
              "</table>\n",
              "</div>"
            ],
            "text/plain": [
              "                                               title             datetime  \\\n",
              "0  우선 런칭 기념으로 ' 시즌 플레인 ' 첫 달 무료 이벤트를 진행 중이다. 좋은지 ...  2019. 12. 12. 12:15   \n",
              "1               올레 tv 모바일이 새롭게 변한 시즌 (seezn) 런칭 이벤트!  2019. 12. 17. 22:29   \n",
              "2                        새로운 모바일 미디어 시즌(Seezn) 런칭 소식  2019. 12. 12. 17:36   \n",
              "3                                 올레 TV 모바일의 놀라운 변신   2019. 12. 31. 16:40   \n",
              "4              올레TV 모바일이 KT seezn 시즌으로! 다양한 콘텐츠 즐겨볼까   2019. 12. 18. 9:39   \n",
              "\n",
              "                                             content  \\\n",
              "0  Play Your Seezn!\\n#시즌 #뉴미디어 #시즌플레인\\n『 스마트폰으로 즐...   \n",
              "1  안녕하세요 비주입니다~^^\\nKT 고객이시라면 올레 tv 모바일을 잘 알고 계실 거...   \n",
              "2   어느 날 제 아이폰에 있던 KT 올레 TV 모바일앱이 사라졌습니다. 제가 심심할 ...   \n",
              "3  아직도 텔레비젼으로만 지상파와 케이블 방송을 시청하는 분들은 안 계시겠죠. 저처럼 ...   \n",
              "4  KT 요금제 가입 고객이라면 지금까지 쏠쏠하게 즐겼던 올레TV 모바일이 최근 see...   \n",
              "\n",
              "                                         str_content  \\\n",
              "0  Play Your Seezn!\\n#시즌 #뉴미디어 #시즌플레인\\n『 스마트폰으로 즐...   \n",
              "1  안녕하세요 비주입니다~^^\\nKT 고객이시라면 올레 tv 모바일을 잘 알고 계실 거...   \n",
              "2   어느 날 제 아이폰에 있던 KT 올레 TV 모바일앱이 사라졌습니다. 제가 심심할 ...   \n",
              "3  아직도 텔레비젼으로만 지상파와 케이블 방송을 시청하는 분들은 안 계시겠죠. 저처럼 ...   \n",
              "4  KT 요금제 가입 고객이라면 지금까지 쏠쏠하게 즐겼던 올레TV 모바일이 최근 see...   \n",
              "\n",
              "                                           clean_doc  \n",
              "0  Play Your Seezn   시즌  뉴미디어  시즌플레인   스마트폰으로 즐기는...  \n",
              "1  안녕하세요 비주입니다    KT 고객이시라면 올레 tv 모바일을 잘 알고 계실 거라...  \n",
              "2  어느 날 제 아이폰에 있던 KT 올레 TV 모바일앱이 사라졌습니다  제가 심심할 때...  \n",
              "3  아직도 텔레비젼으로만 지상파와 케이블 방송을 시청하는 분들은 안 계시겠죠  저처럼 ...  \n",
              "4  KT 요금제 가입 고객이라면 지금까지 쏠쏠하게 즐겼던 올레TV 모바일이 최근 see...  "
            ]
          },
          "metadata": {
            "tags": []
          },
          "execution_count": 32
        }
      ]
    },
    {
      "cell_type": "code",
      "metadata": {
        "id": "bc5fdMVe3gaA"
      },
      "source": [
        "stop_word = ['께서','에서','이다','에게','으로','이랑','까지','부터','하다','습니다',\"연합뉴스\",\"동아닷컴\",\n",
        "             \"한국경제\", \"뉴스엔\", \"CBS노컷뉴스\" \"아시아경제\",\"경향신문\", \n",
        "             \"TV 조선\" \"헤럴드경제\",\"뉴시스\",\"한국일보\",\"SBS\",\"중앙일보\",\"파이낸셜 뉴스\",\"엑스포츠뉴스\",\n",
        "             \"스포츠동아\",\"funE\",\"이데일리스타\",\"동아일보\",\"국민일보\", \"아이뉴스24\",\"뉴스1\", \"공연\",\n",
        "             \"이데일리 뉴스\",\"제주도민일보\", \"노컷뉴스\",\"기자\"]\n",
        "stopPos = ['JKS','JKC','JKG','JKO','JKB','JKV','JKQ','JC','JX',\n",
        "           'SF','SE','SS','SP','SSO','SSC','SC','SL','SY','SH','SN',\n",
        "           'MM','MAG','MAJ']\n",
        "def token_mecab(text):\n",
        "    text = kkma.pos(text)\n",
        "    text = [i for i in text if len(i[0])>1]\n",
        "    text = [i for i in text if i[0] not in stop_word]\n",
        "    text = [i[0] for i in text if i[1] not in stopPos]\n",
        "    return text"
      ],
      "execution_count": null,
      "outputs": []
    },
    {
      "cell_type": "code",
      "metadata": {
        "id": "PtIqhbs13gaE"
      },
      "source": [
        "# 토큰화 + 토큰리스트 생성 \n",
        "def make_tokens(df):\n",
        "    df['tokens'] = ''\n",
        "    tokens_list=[]\n",
        "    for char in tqdm(df['tokens']):\n",
        "        for i, row in df.iterrows():\n",
        "            if i%10000==0:\n",
        "                print(i,'/',len(df))\n",
        "            token = token_mecab(df['clean_doc'][i])\n",
        "            df['tokens'][i] = ' '.join(token)\n",
        "        return df"
      ],
      "execution_count": null,
      "outputs": []
    },
    {
      "cell_type": "code",
      "metadata": {
        "id": "yctyAg043gaK",
        "outputId": "42c86e40-b7ad-4e02-b2e1-6563fcc70ba7",
        "colab": {
          "referenced_widgets": [
            "4888de8aad854162ae6d1c8f37193360"
          ]
        }
      },
      "source": [
        "df = make_tokens(df)"
      ],
      "execution_count": null,
      "outputs": [
        {
          "output_type": "display_data",
          "data": {
            "application/vnd.jupyter.widget-view+json": {
              "model_id": "4888de8aad854162ae6d1c8f37193360",
              "version_major": 2,
              "version_minor": 0
            },
            "text/plain": [
              "HBox(children=(FloatProgress(value=0.0, max=1782.0), HTML(value='')))"
            ]
          },
          "metadata": {
            "tags": []
          }
        },
        {
          "output_type": "stream",
          "text": [
            "0 / 1782\n"
          ],
          "name": "stdout"
        }
      ]
    },
    {
      "cell_type": "code",
      "metadata": {
        "id": "Ak38rO2s3gaO"
      },
      "source": [
        "df.head(3)"
      ],
      "execution_count": null,
      "outputs": []
    }
  ]
}