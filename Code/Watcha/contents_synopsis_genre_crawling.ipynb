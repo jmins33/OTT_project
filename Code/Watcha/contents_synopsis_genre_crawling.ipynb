{
  "nbformat": 4,
  "nbformat_minor": 0,
  "metadata": {
    "kernelspec": {
      "display_name": "Python 3",
      "language": "python",
      "name": "python3"
    },
    "language_info": {
      "codemirror_mode": {
        "name": "ipython",
        "version": 3
      },
      "file_extension": ".py",
      "mimetype": "text/x-python",
      "name": "python",
      "nbconvert_exporter": "python",
      "pygments_lexer": "ipython3",
      "version": "3.7.9"
    },
    "colab": {
      "name": "왓챠시놉,장르.ipynb",
      "provenance": [],
      "include_colab_link": true
    }
  },
  "cells": [
    {
      "cell_type": "markdown",
      "metadata": {
        "id": "view-in-github",
        "colab_type": "text"
      },
      "source": [
        "<a href=\"https://colab.research.google.com/github/jmins33/OTT_project/blob/master/Code/Watcha/contents_synopsis_genre_crawling.ipynb\" target=\"_parent\"><img src=\"https://colab.research.google.com/assets/colab-badge.svg\" alt=\"Open In Colab\"/></a>"
      ]
    },
    {
      "cell_type": "code",
      "metadata": {
        "id": "HTEJTJKNeadd"
      },
      "source": [
        "import requests # 웹 페이지 소스를 얻기 위한 패키지(기본 내장 패키지이다.)\n",
        "from bs4 import BeautifulSoup # 웹 페이지 소스를 얻기 위한 패키지, 더 간단히 얻을 수 있다는 장점이 있다고 한다.\n",
        "from datetime import datetime                                # (!pip install beautifulsoup4 으로 다운받을 수 있다.)\n",
        "import pandas as pd # 데이터를 처리하기 위한 가장 기본적인 패키지\n",
        "import time # 사이트를 불러올 때, 작업 지연시간을 지정해주기 위한 패키지이다. (사이트가 늦게 켜지면 에러가 발생하기 때문)\n",
        "import urllib.request #\n",
        "from selenium import webdriver\n",
        "import json\n",
        "import re     \n",
        "from selenium.webdriver.chrome.options import Options\n",
        "from selenium.webdriver.common.keys import Keys\n",
        "import datetime as dt"
      ],
      "execution_count": null,
      "outputs": []
    },
    {
      "cell_type": "code",
      "metadata": {
        "id": "wEWYv6Oyeadv"
      },
      "source": [
        "from selenium import webdriver\n",
        "from selenium.webdriver.common.keys import Keys\n",
        "from selenium.webdriver.common.action_chains import ActionChains\n",
        "\n",
        "\n",
        "driver = webdriver.Chrome()\n",
        "driver.get('https://watcha.com/explore')"
      ],
      "execution_count": null,
      "outputs": []
    },
    {
      "cell_type": "code",
      "metadata": {
        "id": "NP27QPcgead4"
      },
      "source": [
        "# 첫번째 게시물 클릭 (selector 매번 바꿔줘야 하는듯)\n",
        "\n",
        "element = driver.find_element_by_css_selector(\n",
        "    '#root > div.css-1v324cc-Self.e19xg79h0 > main > div > section > ul > li:nth-child(3) > div.css-1c7lx0y-Self-Row.e17mfvby0 > ul > li:nth-child(4) > div > div.css-up0rlb-StillcutContainer.emn3bqe15 > div.emn3bqe12.css-19lh6j6-StyledPreviewWrapper-StyledPreviewContainer.emn3bqe11.content-preview-exit-done'\n",
        "    )\n",
        "actions = ActionChains(driver) \\\n",
        "    .move_to_element(element) \\\n",
        "    .click()\n",
        "\n",
        "actions.perform()  # actions 실행"
      ],
      "execution_count": null,
      "outputs": []
    },
    {
      "cell_type": "code",
      "metadata": {
        "id": "t76YNtIxead_"
      },
      "source": [
        "# 화살표 클릭\n",
        "driver.find_element_by_css_selector('#root > div.css-1v324cc-Self.e19xg79h0 > main > div > section > ul > li:nth-child(3) > div.css-1c7lx0y-Self-Row.e17mfvby0 > ul > li:nth-child(4) > div > div.css-up0rlb-StillcutContainer.emn3bqe15 > div.emn3bqe12.css-19lh6j6-StyledPreviewWrapper-StyledPreviewContainer.emn3bqe11.content-preview-enter-done > div > div.css-cfd676-StyledOverlay.et9hod013.overlay-transition-enter-done > div > div').click()"
      ],
      "execution_count": null,
      "outputs": []
    },
    {
      "cell_type": "code",
      "metadata": {
        "id": "CW8J8xppeaeE"
      },
      "source": [
        "html = driver.page_source\n",
        "soup = BeautifulSoup(html, 'html.parser')\n",
        "\n",
        "review_title = soup.find_all(\"h1\", {\"class\": \"css-j2cpzo-ContentInfo e1la0pie8\"})\n",
        "review = soup.find_all(\"div\", {\"class\": \"css-14m50u6-Story e1vsnrt65\"})\n",
        "rev = soup.find_all(\"li\", {\"class\":'css-ajo6y3-CreditList e1qb11zh1' })"
      ],
      "execution_count": null,
      "outputs": []
    },
    {
      "cell_type": "code",
      "metadata": {
        "id": "JfS6t9lieaeK",
        "outputId": "0fcdf5a4-954a-4716-daf0-05853768038a"
      },
      "source": [
        "review_title"
      ],
      "execution_count": null,
      "outputs": [
        {
          "output_type": "execute_result",
          "data": {
            "text/plain": [
              "[]"
            ]
          },
          "metadata": {
            "tags": []
          },
          "execution_count": 82
        }
      ]
    },
    {
      "cell_type": "code",
      "metadata": {
        "id": "sFnXSriZeaeR",
        "outputId": "4875c18e-e422-4358-f943-019480df2a43"
      },
      "source": [
        "review"
      ],
      "execution_count": null,
      "outputs": [
        {
          "output_type": "execute_result",
          "data": {
            "text/plain": [
              "[<div class=\"css-14m50u6-Story e1vsnrt65\">미술관의 소장품을 훔쳐 달아나던 귀족 크리스티나와 우연히 한 버스에 타게 된 닥터. 버스는 웜홀에 빠져 낯선 행성에 가게 되고, 닥터는 지구로 돌아갈 방법을 찾던 중 외계인들을 만난다.</div>]"
            ]
          },
          "metadata": {
            "tags": []
          },
          "execution_count": 83
        }
      ]
    },
    {
      "cell_type": "code",
      "metadata": {
        "scrolled": true,
        "id": "8OoY7kSleaeY",
        "outputId": "53e00620-a24b-4316-d88f-2546f96e00bc"
      },
      "source": [
        "rev"
      ],
      "execution_count": null,
      "outputs": [
        {
          "output_type": "execute_result",
          "data": {
            "text/plain": [
              "[<li class=\"css-ajo6y3-CreditList e1qb11zh1\"><span class=\"css-gvfmob-CreditTitle e1qb11zh3\">출연  </span><span class=\"css-1mnni33-CreditContent e1qb11zh2\"><span>데이비드 테넌트</span><span>, 미쉘 라이언</span><span>, 리 에반스</span></span></li>,\n",
              " <li class=\"css-ajo6y3-CreditList e1qb11zh1\"><span class=\"css-gvfmob-CreditTitle e1qb11zh3\">개요  </span><span class=\"css-1mnni33-CreditContent e1qb11zh2\"><span><span>모험</span></span><span><span> · </span><span>드라마</span></span><span>   |   </span><span><span>화려한</span></span><span>   |   </span><span><span>영국</span></span><span>   |    2009년</span></span></li>]"
            ]
          },
          "metadata": {
            "tags": []
          },
          "execution_count": 84
        }
      ]
    }
  ]
}